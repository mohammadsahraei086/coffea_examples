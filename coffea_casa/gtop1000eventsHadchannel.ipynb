{
 "cells": [
  {
   "cell_type": "code",
   "execution_count": 1,
   "id": "6c965603-dec0-4a7f-a0b4-af70827a6824",
   "metadata": {},
   "outputs": [
    {
     "name": "stderr",
     "output_type": "stream",
     "text": [
      "/tmp/ipykernel_22002/2480709660.py:4: FutureWarning: In version 2024.7.0 (target date: 2024-06-30 11:59:59-05:00), this will be an error.\n",
      "To raise these warnings as errors (and get stack traces to find out where they're called), run\n",
      "    import warnings\n",
      "    warnings.filterwarnings(\"error\", module=\"coffea.*\")\n",
      "after the first `import coffea` or use `@pytest.mark.filterwarnings(\"error:::coffea.*\")` in pytest.\n",
      "Issue: coffea.nanoevents.methods.vector will be removed and replaced with scikit-hep vector. Nanoevents schemas internal to coffea will be migrated. Otherwise please consider using that package!.\n",
      "  from coffea.nanoevents.methods import vector\n"
     ]
    }
   ],
   "source": [
    "import awkward as ak\n",
    "import numpy as np\n",
    "import hist\n",
    "from coffea.nanoevents.methods import vector\n",
    "from coffea.nanoevents import NanoEventsFactory, DelphesSchema, NanoAODSchema"
   ]
  },
  {
   "cell_type": "code",
   "execution_count": 2,
   "id": "06b0ef80-8947-49a0-bcb9-b1ff93f286bf",
   "metadata": {},
   "outputs": [],
   "source": [
    "events = NanoEventsFactory.from_root('tag_1_delphes_events.root', schemaclass=DelphesSchema).events()"
   ]
  },
  {
   "cell_type": "code",
   "execution_count": 6,
   "id": "2ed8d3eb-50a1-4ba9-b937-ebb958450684",
   "metadata": {},
   "outputs": [],
   "source": [
    "selectedJets = events.Jet[(events.Jet.PT >= 10) & (np.abs(events.Jet.Eta) < 2.5)]\n",
    "jets = selectedJets[(ak.num(selectedJets, axis=1)==4) & (ak.sum(selectedJets.BTag, axis=1)==1)\\\n",
    "& (ak.num(events.Muon, axis=1)==0) & (ak.num(events.Electron, axis=1)==0) & (ak.num(events.Photon, axis=1)==0)]\n",
    "# jets = events.Jet[(ak.num(events.Jet, axis=1)==4) & (ak.sum(events.Jet.BTag, axis=1)==1)\\\n",
    "# & (ak.num(events.Muon, axis=1)==0) & (ak.num(events.Electron, axis=1)==0) & (ak.num(events.Photon, axis=1)==0)]\n",
    "nonbtag = jets[jets.BTag==0]\n",
    "#jets=jets[(nonbtag[:,0]+nonbtag[:,1]+nonbtag[:,2]).mass>85]\n",
    "nonbtag=jets[jets.BTag==0]\n",
    "nonbtag = ak.with_field(nonbtag.compute(), np.array([[1,2,3]]), \"jet_index\")\n",
    "btag=ak.flatten(jets[jets.BTag==1].compute())"
   ]
  },
  {
   "cell_type": "code",
   "execution_count": 4,
   "id": "918b7377-c230-459a-bd8c-4814bfb94888",
   "metadata": {
    "scrolled": true
   },
   "outputs": [],
   "source": [
    "combined_jets = ak.combinations(nonbtag, 2, fields=['j0', 'j1'])\n",
    "MW = 80.38\n",
    "Mt = 173.21\n",
    "mass_function = ((MW-(combined_jets.j0+combined_jets.j1).mass)**2)+\\\n",
    "                ((Mt-(combined_jets.j0+combined_jets.j1+btag).mass)**2)\n",
    "combination_index = ak.argmin(mass_function, axis=1)\n",
    "W_jets = combined_jets[np.arange(ak.num(combination_index,axis=0)),combination_index.to_numpy(allow_missing=False)]\n",
    "Gluon_jet = ak.flatten(nonbtag[(nonbtag.jet_index != W_jets.j0.jet_index) & (nonbtag.jet_index != W_jets.j1.jet_index)])\n",
    "W_mass = (W_jets.j0+W_jets.j1).mass\n",
    "t_mass = (W_jets.j0+W_jets.j1+btag).mass\n",
    "T_mass = (W_jets.j0+W_jets.j1+btag + Gluon_jet).mass"
   ]
  },
  {
   "cell_type": "code",
   "execution_count": 9,
   "id": "13d43929-c777-4d3d-ace1-c6384f300547",
   "metadata": {},
   "outputs": [
    {
     "data": {
      "text/plain": [
       "[StairsArtists(stairs=<matplotlib.patches.StepPatch object at 0x7f2ef34e3130>, errorbar=<ErrorbarContainer object of 3 artists>, legend_artist=<ErrorbarContainer object of 3 artists>)]"
      ]
     },
     "execution_count": 9,
     "metadata": {},
     "output_type": "execute_result"
    },
    {
     "data": {
      "image/png": "[encoded data removed]",
      "text/plain": [
       "<Figure size 640x480 with 1 Axes>"
      ]
     },
     "metadata": {},
     "output_type": "display_data"
    }
   ],
   "source": [
    "mass_plot = hist.Hist(hist.axis.Regular(name='pt2', label='Second pT', bins=20, start= 0, stop=1000))\n",
    "#mass_plot.fill(W_mass)\n",
    "#mass_plot.fill(t_mass)\n",
    "mass_plot.fill(T_mass)\n",
    "mass_plot.plot1d()"
   ]
  },
  {
   "cell_type": "code",
   "execution_count": null,
   "id": "361c1631-1354-4084-93c8-7a5fd4897079",
   "metadata": {},
   "outputs": [],
   "source": []
  }
 ],
 "metadata": {
  "kernelspec": {
   "display_name": "Python 3 (ipykernel)",
   "language": "python",
   "name": "python3"
  },
  "language_info": {
   "codemirror_mode": {
    "name": "ipython",
    "version": 3
   },
   "file_extension": ".py",
   "mimetype": "text/x-python",
   "name": "python",
   "nbconvert_exporter": "python",
   "pygments_lexer": "ipython3",
   "version": "3.10.12"
  }
 },
 "nbformat": 4,
 "nbformat_minor": 5
}
